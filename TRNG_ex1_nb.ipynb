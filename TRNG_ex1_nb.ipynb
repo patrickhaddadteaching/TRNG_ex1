{
 "cells": [
  {
   "cell_type": "code",
   "execution_count": null,
   "metadata": {},
   "outputs": [],
   "source": [
    "from ipywidgets import widgets,interactive\n",
    "import numpy as np\n",
    "from time import time, sleep\n",
    "from h5py import File as h5py_File\n",
    "import matplotlib.pyplot as plt\n",
    "from zipfile import ZipFile\n",
    "from os.path import abspath , exists\n",
    "from os import remove, mkdir, system\n",
    "from datetime import datetime"
   ]
  },
  {
   "cell_type": "code",
   "execution_count": null,
   "metadata": {},
   "outputs": [],
   "source": [
    "width_png=529\n",
    "height_png=400"
   ]
  },
  {
   "cell_type": "code",
   "execution_count": null,
   "metadata": {},
   "outputs": [],
   "source": [
    "image_height=300\n",
    "image_width=int(width_png*image_height/height_png)\n",
    "raw_bytes_width=100\n",
    "tests_results_width=500\n",
    "tmp_image_name='tmp_ex1.svg'"
   ]
  },
  {
   "cell_type": "code",
   "execution_count": null,
   "metadata": {},
   "outputs": [],
   "source": [
    "s_data_file_name='data_for_ex1'\n",
    "s_data_dir_name='data'\n",
    "nb_subzip_files=10"
   ]
  },
  {
   "cell_type": "code",
   "execution_count": null,
   "metadata": {},
   "outputs": [],
   "source": [
    "try:\n",
    "    import google.colab\n",
    "    IN_COLAB = True\n",
    "    s_data_dir_name='data_colab'\n",
    "except:\n",
    "    IN_COLAB = False\n",
    "    s_data_dir_name='data'\n",
    "if IN_COLAB:\n",
    "    if exists(s_data_dir_name)==False:\n",
    "        mkdir(s_data_dir_name)\n",
    "    for i in range(nb_subzip_files):\n",
    "        s_cmd='wget https://github.com/patrickhaddadteaching/TRNG_ex1/raw/main/data/data_for_ex1.zip%d'%i\n",
    "        system(s_cmd)\n",
    "        system('mv data_for_ex1.zip%d ./%s/'%(i,s_data_dir_name))"
   ]
  },
  {
   "cell_type": "code",
   "execution_count": null,
   "metadata": {},
   "outputs": [],
   "source": [
    "path_to_zip_file='%s_tmp.zip'%(s_data_file_name)\n",
    "f_zip=open(path_to_zip_file, 'w')\n",
    "for i in range(nb_subzip_files):\n",
    "    s_subzip_path='%s/%s.zip%d'%(s_data_dir_name,s_data_file_name,i)\n",
    "    if exists(s_subzip_path):\n",
    "        #print('%s EXIST'%s_subzip_path)\n",
    "        f_subzip=open(s_subzip_path, 'r')\n",
    "        subzip_bytes=np.fromfile(f_subzip, dtype=np.uint8)\n",
    "        f_subzip.close()\n",
    "        subzip_bytes.tofile(f_zip)\n",
    "    else:\n",
    "        print('%s DOES NOT EXIST'%s_subzip_path)\n",
    "f_zip.close()"
   ]
  },
  {
   "cell_type": "code",
   "execution_count": null,
   "metadata": {},
   "outputs": [],
   "source": [
    "zip_ref=ZipFile(path_to_zip_file, 'r')\n",
    "zip_ref.extractall('.')"
   ]
  },
  {
   "cell_type": "code",
   "execution_count": null,
   "metadata": {},
   "outputs": [],
   "source": [
    "hdf5_file = '%s.h5'%s_data_file_name\n",
    "data_file = h5py_File(hdf5_file,'r')\n",
    "v_ratio_period_sample_for_interact=np.array(data_file['parameters/v_ratio_period_sample'][0,:],dtype=np.uint32)\n",
    "v_jitter_for_interact=data_file['parameters/v_jitter'][0,:]\n",
    "v_duty_cycle_interact=data_file['parameters/v_duty_cycle'][0,:]\n",
    "v_raw_rng_image=data_file['images/rng_image'][0,:]\n",
    "m_raw_bits_from_one_RO=data_file['raw_bits/m_raw_bits_from_one_RO'][:]\n",
    "data_file.close()\n",
    "#remove('%s'%hdf5_file)\n",
    "nb_test_per_corner=m_raw_bits_from_one_RO.shape[3]\n",
    "nb_bits=m_raw_bits_from_one_RO.shape[4]"
   ]
  },
  {
   "cell_type": "code",
   "execution_count": null,
   "metadata": {},
   "outputs": [],
   "source": [
    "if exists('random_values')==False:\n",
    "    mkdir('random_values')"
   ]
  },
  {
   "cell_type": "code",
   "execution_count": null,
   "metadata": {},
   "outputs": [],
   "source": [
    "\n",
    "raw_bytes=widgets.Textarea(value='',rows=5000,placeholder='',description='',disabled=True,layout=widgets.Layout(height='%dpx'%(image_height),width='%dpx'%(image_width/4)))\n",
    "html_download=widgets.HTML(value='',layout=widgets.Layout(width='%dpx'%(image_height*1.25+tests_results_width)))\n",
    "rng_image=widgets.Image(value=v_raw_rng_image.tobytes(), format='png',layout=widgets.Layout(height='%dpx'%(image_height),width='%dpx'%image_width))\n",
    "\n",
    "v_x=np.array([ 0,  1,  2,  4,  8,  3,  5,  6,  9, 10, 12,  7, 11, 13, 14, 15], dtype=np.uint8)\n",
    "v_s_x=['0000', '0001', '0010', '0100', '1000', '0011', '0101', '0110', '1001', '1010', '1100', '0111', '1011', '1101', '1110', '1111']\n",
    "nb_tau=100 \n",
    "def generate_rnd(chosen_sample_period,chosen_jitter,chosen_duty_cycle,save_data_in_file):\n",
    "\n",
    "\n",
    "    index_sample_period=np.where(chosen_sample_period==v_ratio_period_sample_for_interact)[0][0]\n",
    "    index_chosen_jitter=v_std_dev_value_widgets_option.index(chosen_jitter)\n",
    "    index_chosen_chosen_duty_cycle=duty_cycle_value_widgets_option.index(chosen_duty_cycle)\n",
    "    \n",
    "    raw_bytes.value=''\n",
    "    \n",
    "    tmp_rand=np.random.randint(0,nb_test_per_corner,dtype=np.uint32)\n",
    "    v_raw_bits=m_raw_bits_from_one_RO[index_chosen_chosen_duty_cycle,index_chosen_jitter,index_sample_period,tmp_rand,:]\n",
    "        \n",
    "    nb_nibble=int((nb_bits)/4)\n",
    "    v_nibble=np.zeros((nb_nibble,),dtype=np.uint8)\n",
    "    for i in range(4):\n",
    "        v_nibble+=np.array(v_raw_bits[i:4*nb_nibble:4],dtype=np.uint8)*(2**i)\n",
    "\n",
    "    v_hist=np.zeros((16,),dtype=np.uint32)\n",
    "    for i in range(16):\n",
    "        v_hist[i]=((v_nibble==v_x[i]).sum())\n",
    "        \n",
    "\n",
    "    nb_words_to_be_used=v_nibble.shape[0]-nb_tau\n",
    "    v_T5=np.zeros((nb_tau,),dtype=np.float64)\n",
    "    for tau in range(nb_tau):\n",
    "        v_T5[tau]=(((v_nibble[:nb_words_to_be_used])^(v_nibble[tau+1:tau+nb_words_to_be_used+1])).mean())-7.5\n",
    "    \n",
    "    fig_height=image_height/80\n",
    "    fig, ax = plt.subplots(2, 1,figsize=[fig_height*1.5,fig_height])\n",
    "    ax[0].bar(np.arange(16),v_hist)\n",
    "    ax[0].set_title('4-bits words distribution')\n",
    "    ax[0].set_xlabel('4-bits word value')\n",
    "    ax[0].set_xticks(np.arange(16))\n",
    "    ax[0].set_xticklabels(v_s_x,rotation='vertical')\n",
    "    \n",
    "    ax[0].plot(np.arange(17)-0.5,np.ones(17)*370,'r')\n",
    "    ax[0].plot(np.arange(17)-0.5,np.ones(17)*254,'r')\n",
    "    \n",
    "    \n",
    "    ax[1].plot(v_T5)\n",
    "    ax[1].set_xlabel('Lag')\n",
    "    ax[1].set_title('4-bits words Autocorrelation')\n",
    "    ax[1].plot(np.arange(nb_tau),np.ones(nb_tau)*0.23,'r')\n",
    "    ax[1].plot(np.arange(nb_tau),np.ones(nb_tau)*(-0.23),'r')\n",
    "        \n",
    "    fig.tight_layout(pad=0, h_pad=2.0, w_pad=None)\n",
    "    plt.show()\n",
    "    s_line=''\n",
    "    for i in range(nb_nibble):\n",
    "        s_line='%s%X'%(s_line,v_nibble[i])\n",
    "    raw_bytes.value=s_line   \n",
    "    \n",
    "    if save_data_in_file==True:\n",
    "        \n",
    "        now = datetime.now()\n",
    "        str_time = now.strftime(\"%d-%m-%Y_%Hh%Mm%Ss%fms\")\n",
    "        randomvalues_file_name='ex1_a%s_jit%s_D%d_%s.txt'%(chosen_duty_cycle,chosen_jitter,chosen_sample_period,str_time)\n",
    "        fid_rnd_file=open('random_values/%s'%randomvalues_file_name,'w')\n",
    "        fid_rnd_file.write(s_line)\n",
    "        fid_rnd_file.close()\n",
    "\n",
    "        path_to_download='%s'%(randomvalues_file_name)\n",
    "        s_line_for_download='<p> random numbers are saved in the following file %s stored in %s</p>'%(path_to_download,abspath('random_values'))\n",
    "        html_download.value=s_line_for_download\n",
    "    else:\n",
    "        s_line_for_download=''\n",
    "        html_download.value=s_line_for_download\n",
    "\n",
    "v_std_dev_value_widgets_option=[]\n",
    "for i in range(v_jitter_for_interact.shape[0]):\n",
    "    v_std_dev_value_widgets_option.append('%.2e'%(v_jitter_for_interact[i]))\n",
    "std_dev_value_widgets=widgets.SelectionSlider(description=r'\\(\\frac{\\sigma_{tot}}{T_{1}}\\)',options=v_std_dev_value_widgets_option,layout=widgets.Layout(width='%dpx'%(image_height+raw_bytes_width)))\n",
    "\n",
    "duty_cycle_value_widgets_option=[]\n",
    "for i in range(v_duty_cycle_interact.shape[0]):\n",
    "    duty_cycle_value_widgets_option.append('%.2f'%(v_duty_cycle_interact[i]))\n",
    "    \n",
    "duty_cycle_value_widgets=widgets.SelectionSlider(description=r'\\(\\alpha_{1}\\)',options=duty_cycle_value_widgets_option,layout=widgets.Layout(width='%dpx'%(image_height+raw_bytes_width)))\n",
    "\n",
    "sample_period_value_widgets=widgets.SelectionSlider(description=r'\\(D\\)',options=list(v_ratio_period_sample_for_interact),layout=widgets.Layout(width='%dpx'%(image_height+raw_bytes_width)),readout_format='.1f')\n",
    "save_data_in_file_widgets=widgets.Checkbox(value=False,description='SAVE RANDOM NUMBERS IN A FILE',disabled=False,button_style='', tooltip='Description',icon='check')\n",
    "\n",
    "interactive_plot = interactive(generate_rnd,{'manual': True}, chosen_sample_period=sample_period_value_widgets,chosen_jitter =std_dev_value_widgets ,chosen_duty_cycle=duty_cycle_value_widgets,save_data_in_file=save_data_in_file_widgets)\n",
    "interactive_plot.children[-2].description='GENERATE RANDOM VALUES'\n",
    "interactive_plot.children[-2].layout=widgets.Layout(width='%dpx'%((int((raw_bytes.layout.width)[:-2])+tests_results_width)*0.8))\n",
    "interactive_plot.children[-3].layout=widgets.Layout(width=interactive_plot.children[-2].layout.width)\n",
    "v_box_top=widgets.VBox([widgets.VBox([widgets.HBox([rng_image,raw_bytes,interactive_plot.children[-1]]),widgets.VBox([widgets.HBox([widgets.VBox([interactive_plot.children[2],interactive_plot.children[1],interactive_plot.children[0]]),widgets.VBox([interactive_plot.children[4],interactive_plot.children[3]])])])]),html_download])\n",
    "display(v_box_top)"
   ]
  }
 ],
 "metadata": {
  "kernelspec": {
   "display_name": "Python 3 (ipykernel)",
   "language": "python",
   "name": "python3"
  },
  "language_info": {
   "codemirror_mode": {
    "name": "ipython",
    "version": 3
   },
   "file_extension": ".py",
   "mimetype": "text/x-python",
   "name": "python",
   "nbconvert_exporter": "python",
   "pygments_lexer": "ipython3",
   "version": "3.9.12"
  }
 },
 "nbformat": 4,
 "nbformat_minor": 2
}
