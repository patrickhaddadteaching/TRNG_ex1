{
 "cells": [
  {
   "cell_type": "markdown",
   "id": "609a3336",
   "metadata": {},
   "source": [
    "### Oscillator-based TRNGs\n",
    "<p>The first generator to consider is the simplest Oscillator-based generator: the elementary oscillator-based TRNG (EO-TRNG) presented in Fig. 1. </p>\n",
    "<p align=\"center\" width=\"100%\">\n",
    "    <img width=\"50%\" src=\"./eo_trng.PNG\"> \n",
    "</p>\n",
    "<p style=\"text-align: center;\"><b>Figure 1: Randomness extraction from a jittered clock signal by a D flip-flop</b></p>\n",
    "<p>Clearly, the output randomness depends on the following parameters:\n",
    "    <ol>\n",
    "      <li>The average clock periods of $O_{0}$ and $O_{1}$: $T_{0}$ and $T_{1}$</li>\n",
    "      <li>The $O_{1} $duty cycle: $\\alpha_1$</li>\n",
    "      <li>The jitter variance of $O_{0}$ and $O_{1}$: $\\sigma_{tot}^2$ </li>\n",
    "      <li>The accumulation time: $\\Delta t = D\\cdot T_0$</li>        \n",
    "    </ol>\n",
    "    \n",
    "### The exercice\n",
    "<p> In this exercise, you can analyze the impact of input parameters of the EO-TRNG on the generator output. \n",
    "You can execute the last cell of this notebook and observe how the duty cycle, the jitter variance, and the accumulation time affect the randomness of the generated numbers.</p>\n",
    "\n",
    "<p> By default $T_{0}=1.875$ ns and  $T_{1}=3.125$ ns, which respectivly correspond to a 3 and a 5 delay based oscillator built with the same inverter based $312.5$ ps delay. $T_{0}$ and  $T_{1}$ can be changed by setting them to the desired values in the next cell of this notebook</p> \n",
    "\n",
    "<p> Randomness is analyzed by observing the distribution and the auto-correlation of generated 4-bit bit-vectors.\n",
    "Note: In the case of an ideal RNG, the distribution and the auto-correlation are in 99.9~\\% of the cases between the red lines.</p>\n",
    "\n",
    "\n",
    "### Your job\n",
    "<p>The Graal of a TRNG designer is to find the smallest TRNG, generating random numbers with the highest throuput.\n",
    "For this reason, your goal is to find the smallest $D$ for which the EO-TRNG would not be distinguishable from an ideal RNG.</p>\n",
    "\n",
    "#### your 1<sup>st</sup> mission\n",
    "\n",
    "<ul>\n",
    "  <li>Let fix $\\alpha_{1}$ to 0.5 wich correspond to the ideal oscilators duty cycle </li>\n",
    "  <li>Let fix $\\frac{\\sigma_{tot}}{T_{1}}$ to 0.001 wich is the most relevant jitter value observed with inverters based oscilators implemented in FPGA's [Ref to be completed]</li>\n",
    "</ul>\n",
    "<ul>\n",
    "<li style=\"color:green\">Your goal for this mission is to determine the smallest $D$ for which the distribution and the auto-correlation would not distinguish the EO-TRNG  from an ideal RNG.</li>\n",
    "</ul>\n",
    "\n",
    "#### your 2<sup>nd</sup> mission\n",
    "\n",
    "<ul>\n",
    "  <li>Let fix $\\alpha_1$ to 0.5 wich correspond to the ideal oscilators duty cycle </li>\n",
    "</ul>\n",
    "<ul>\n",
    "<li><p style=\"color:green\">Your goal for this mission is to determine the smallest $D$ for which the distribution and the auto-correlation would not distinguish the EO-TRNG from an ideal RNG for: </p>\n",
    "    <ul>\n",
    "      <li>$\\frac{\\sigma_{tot}}{T_{1}}=0.0001$ </li>\n",
    "      <li>$\\frac{\\sigma_{tot}}{T_{1}}=0.0005$ </li>\n",
    "      <li>$\\frac{\\sigma_{tot}}{T_{1}}=0.005$ </li>\n",
    "      <li>$\\frac{\\sigma_{tot}}{T_{1}}=0.01$ </li>\n",
    "    </ul>\n",
    "</ul>\n",
    "\n",
    "### 1<sup>st</sup>  conclusion\n",
    "#### <p style=\"color:red\"> How the jitter variance impact the throughput of a EO-TRNG undistinguishable from an ideal RNG ?</p>\n",
    "\n",
    "#### your 3<sup>rd</sup> mission\n",
    "<ul>\n",
    "  <li>Let fix $\\frac{\\sigma_{tot}}{T_{1}}$ to 0.001 wich is the most relevant jitter value observed with inverters based oscilators implemented in FPGA's [Ref to be completed]</li>\n",
    "</ul>\n",
    "<ul>\n",
    "<li><p style=\"color:green\">Your goal for this mission is to determine the smallest $D$ for which the distribution and the auto-correlation would not distinguish the EO-TRNG from an ideal RNG for: </p>\n",
    "    <ul>\n",
    "      <li>$\\alpha_{1}=0.502$ </li>\n",
    "      <li>$\\alpha_{1}=0.498$ </li>\n",
    "      <li>$\\alpha_{1}=0.504$ </li>\n",
    "      <li>$\\alpha_{1}=0.496$ </li>\n",
    "      <li>$\\alpha_{1}=0.506$ </li>\n",
    "      <li>$\\alpha_{1}=0.494$ </li>        \n",
    "    </ul>\n",
    "</ul>\n",
    "\n",
    "### 2<sup>nd</sup>  conclusion\n",
    "#### <p style=\"color:red\"> How the oscilators duty cycle impact the throughput of a EO-TRNG undistinguishable from an ideal RNG ?</p>\n"
   ]
  },
  {
   "cell_type": "code",
   "execution_count": 1,
   "id": "9a273e3b",
   "metadata": {},
   "outputs": [
    {
     "name": "stdout",
     "output_type": "stream",
     "text": [
      "T0=1.875000e-09 sec.\n",
      "T1=3.125000e-09 sec.\n"
     ]
    },
    {
     "data": {
      "application/vnd.jupyter.widget-view+json": {
       "model_id": "199180709ebc418abc6d3b828dca03eb",
       "version_major": 2,
       "version_minor": 0
      },
      "text/plain": [
       "VBox(children=(HBox(children=(VBox(children=(Button(description='GENERATE RANDOM NUMBERS', layout=Layout(width…"
      ]
     },
     "metadata": {},
     "output_type": "display_data"
    }
   ],
   "source": [
    "from os import system\n",
    "#T0=\n",
    "#T1=\n",
    "try:\n",
    "    import google.colab\n",
    "    IN_COLAB = True\n",
    "except:\n",
    "    IN_COLAB = False    \n",
    "if IN_COLAB:\n",
    "    print('NOTEBOOK RUNNING ON COLAB')\n",
    "    s_cmd='wget https://github.com/patrickhaddadteaching/TRNG_ex1/raw/main/exo1_src.py'\n",
    "    system(s_cmd)\n",
    "from exo1_src import *\n",
    "display(v_box_top)"
   ]
  }
 ],
 "metadata": {
  "kernelspec": {
   "display_name": "Python 3 (ipykernel)",
   "language": "python",
   "name": "python3"
  },
  "language_info": {
   "codemirror_mode": {
    "name": "ipython",
    "version": 3
   },
   "file_extension": ".py",
   "mimetype": "text/x-python",
   "name": "python",
   "nbconvert_exporter": "python",
   "pygments_lexer": "ipython3",
   "version": "3.9.7"
  }
 },
 "nbformat": 4,
 "nbformat_minor": 5
}
